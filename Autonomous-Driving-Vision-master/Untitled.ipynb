{
 "cells": [
  {
   "cell_type": "code",
   "execution_count": 1,
   "id": "effdcbfb",
   "metadata": {},
   "outputs": [
    {
     "name": "stdout",
     "output_type": "stream",
     "text": [
      "True\n",
      "True\n",
      "True\n"
     ]
    }
   ],
   "source": [
    "import cv2\n",
    "import numpy as np\n",
    "\n",
    "import os\n",
    "WEIGHTS = \"/home/kitechai/바탕화면/yolov3-tiny.weights\"\n",
    "CONFIG = \"/home/kitechai/바탕화면/yolov3-tiny.cfg\"\n",
    "CLASSES = \"/home/kitechai/바탕화면/coco.names\"\n",
    "\n",
    "print(os.path.exists(WEIGHTS))\n",
    "print(os.path.exists(CONFIG))\n",
    "print(os.path.exists(CLASSES))"
   ]
  },
  {
   "cell_type": "code",
   "execution_count": 2,
   "id": "3b7066ca",
   "metadata": {},
   "outputs": [],
   "source": [
    "import pyzed.sl as sl"
   ]
  },
  {
   "cell_type": "code",
   "execution_count": 7,
   "id": "256713c3",
   "metadata": {},
   "outputs": [
    {
     "name": "stdout",
     "output_type": "stream",
     "text": [
      "on\n"
     ]
    }
   ],
   "source": [
    "def main():\n",
    "    # Create a ZED camera object\n",
    "    zed = sl.Camera()\n",
    " \n",
    "    # Set configuration parameters\n",
    "    init_params = sl.InitParameters()\n",
    "    init_params.sdk_verbose = False\n",
    "    init_params.camera_resolution = sl.RESOLUTION.HD1080 \n",
    "    init_params.camera_fps = 30 \n",
    "    # Open the camera\n",
    "    err = zed.open(init_params)\n",
    "    if (err != sl.ERROR_CODE.SUCCESS) :\n",
    "        exit(-1)\n",
    "        print('on')\n",
    "#     zed.close()\n",
    "#     print('off')\n",
    "#     return 0\n",
    "\n",
    "if __name__ == \"__main__\":\n",
    "    main()"
   ]
  },
  {
   "cell_type": "code",
   "execution_count": 14,
   "id": "40a5b63e",
   "metadata": {},
   "outputs": [],
   "source": [
    "# Create Mat Object\n",
    "image = sl.Mat()\n",
    "# Create Runtime Parameter\n",
    "runtime_parameters = sl.RuntimeParameters()\n",
    "\n",
    "if zed.grab(runtime_parameters) == sl.ERROR_CODE.SUCCESS:\n",
    "    # A new Image is available if grab() return SUCCESS\n",
    "    zed.retrieve_image(image, sl.VIEW.LEFT) # Retrieve the left image"
   ]
  },
  {
   "cell_type": "code",
   "execution_count": 16,
   "id": "befd65b2",
   "metadata": {},
   "outputs": [
    {
     "ename": "SyntaxError",
     "evalue": "invalid syntax (<ipython-input-16-022ad6a46520>, line 8)",
     "output_type": "error",
     "traceback": [
      "\u001b[0;36m  File \u001b[0;32m\"<ipython-input-16-022ad6a46520>\"\u001b[0;36m, line \u001b[0;32m8\u001b[0m\n\u001b[0;31m    while (!exit_app) :\u001b[0m\n\u001b[0m           ^\u001b[0m\n\u001b[0;31mSyntaxError\u001b[0m\u001b[0;31m:\u001b[0m invalid syntax\n"
     ]
    }
   ],
   "source": [
    "zed = sl.Camera()\n",
    "\n",
    "# Enable recording with the filename specified in argument\n",
    "recodingParams = RecordingParameters(\"myVideoFile.svo\", sl.SVO_COMPRESSION_MODE.H264)\n",
    "\n",
    "err = zed.enable_recording(recodingParams)\n",
    "\n",
    "while (!exit_app) :\n",
    "    if zed.grab() == SUCCESS :\n",
    "        # Each new frame is added to the SVO file\n",
    "        zed.record()\n",
    "\n",
    "# Disable recording\n",
    "zed.disable_recording()"
   ]
  },
  {
   "cell_type": "code",
   "execution_count": 17,
   "id": "7577bd0c",
   "metadata": {},
   "outputs": [],
   "source": [
    "zed.close()"
   ]
  },
  {
   "cell_type": "code",
   "execution_count": 2,
   "id": "101ab8e9",
   "metadata": {},
   "outputs": [
    {
     "ename": "ModuleNotFoundError",
     "evalue": "No module named 'pyzed.camera'",
     "output_type": "error",
     "traceback": [
      "\u001b[0;31m---------------------------------------------------------------------------\u001b[0m",
      "\u001b[0;31mModuleNotFoundError\u001b[0m                       Traceback (most recent call last)",
      "\u001b[0;32m<ipython-input-2-d77886c171a0>\u001b[0m in \u001b[0;36m<module>\u001b[0;34m\u001b[0m\n\u001b[0;32m----> 1\u001b[0;31m \u001b[0;32mimport\u001b[0m \u001b[0mpyzed\u001b[0m\u001b[0;34m.\u001b[0m\u001b[0mcamera\u001b[0m\u001b[0;34m\u001b[0m\u001b[0;34m\u001b[0m\u001b[0m\n\u001b[0m",
      "\u001b[0;31mModuleNotFoundError\u001b[0m: No module named 'pyzed.camera'"
     ]
    }
   ],
   "source": [
    "import pyzed.camera"
   ]
  },
  {
   "cell_type": "code",
   "execution_count": 3,
   "id": "c604634e",
   "metadata": {},
   "outputs": [
    {
     "ename": "SyntaxError",
     "evalue": "unexpected EOF while parsing (<ipython-input-3-4931d2b92f08>, line 28)",
     "output_type": "error",
     "traceback": [
      "\u001b[0;36m  File \u001b[0;32m\"<ipython-input-3-4931d2b92f08>\"\u001b[0;36m, line \u001b[0;32m28\u001b[0m\n\u001b[0;31m    \u001b[0m\n\u001b[0m    ^\u001b[0m\n\u001b[0;31mSyntaxError\u001b[0m\u001b[0;31m:\u001b[0m unexpected EOF while parsing\n"
     ]
    }
   ],
   "source": [
    "def run(self):\n",
    "        init = sl.InitParameters()\n",
    "        cam = sl.Camera()\n",
    "        if not cam.is_opened():\n",
    "            print(\"Opening ZED Camera...\")\n",
    "        status = cam.open(init)\n",
    "        if status != sl.ERROR_CODE.SUCCESS:\n",
    "            print(repr(status))\n",
    "            exit()\n",
    "\n",
    "        runtime = sl.RuntimeParameters()\n",
    "        mat = sl.Mat()\n",
    "\n",
    "        encode_param = [int(cv2.IMWRITE_JPEG_QUALITY), 90]\n",
    "\n",
    "        while not self.stopped: \n",
    "            err = cam.grab(runtime)\n",
    "            if err == sl.ERROR_CODE.SUCCESS:\n",
    "                cam.retrieve_image(mat, sl.VIEW.VIEW_LEFT)\n",
    "                frameLocal = cv2.resize(mat.get_data(), (self.image_shape[1], self.image_shape[0]))\n",
    "                \n",
    "                # Transform a PNG frame to JPG, removing the last dimension.\n",
    "                frameLocal = frameLocal[:,:,0:3]\n",
    "                \n",
    "                self.frame = np.array(helper.predict(self.sess, frameLocal,\n",
    "                                                     self.input_image,\n",
    "                                                     self.keep_prob,\n",
    "                           "
   ]
  },
  {
   "cell_type": "code",
   "execution_count": null,
   "id": "2b3602ab",
   "metadata": {},
   "outputs": [],
   "source": []
  }
 ],
 "metadata": {
  "kernelspec": {
   "display_name": "Python 3",
   "language": "python",
   "name": "python3"
  },
  "language_info": {
   "codemirror_mode": {
    "name": "ipython",
    "version": 3
   },
   "file_extension": ".py",
   "mimetype": "text/x-python",
   "name": "python",
   "nbconvert_exporter": "python",
   "pygments_lexer": "ipython3",
   "version": "3.8.8"
  }
 },
 "nbformat": 4,
 "nbformat_minor": 5
}
