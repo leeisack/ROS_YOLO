{
 "cells": [
  {
   "cell_type": "code",
   "execution_count": 4,
   "id": "53bf17a3",
   "metadata": {},
   "outputs": [],
   "source": [
    "import pyzed.sl as sl"
   ]
  },
  {
   "cell_type": "code",
   "execution_count": 5,
   "id": "a052b148",
   "metadata": {},
   "outputs": [],
   "source": [
    "# Create a ZED camera object\n",
    "zed = sl.Camera()\n",
    "\n",
    "# Set configuration parameters\n",
    "init_params = sl.InitParameters()\n",
    "init_params.camera_resolution = sl.RESOLUTION.HD1080\n",
    "init_params.camera_fps = 30"
   ]
  },
  {
   "cell_type": "code",
   "execution_count": 6,
   "id": "41e55f77",
   "metadata": {
    "scrolled": true
   },
   "outputs": [],
   "source": [
    "# Open the camera\n",
    "err = zed.open(init_params)\n",
    "if err != sl.ERROR_CODE.SUCCESS:\n",
    "    exit(-1)\n"
   ]
  },
  {
   "cell_type": "code",
   "execution_count": 7,
   "id": "c16c6a94",
   "metadata": {},
   "outputs": [
    {
     "name": "stdout",
     "output_type": "stream",
     "text": [
      "Hello! This is my serial number: 0\n"
     ]
    }
   ],
   "source": [
    "# Get camera information (serial number)\n",
    "zed_serial = zed.get_camera_information().serial_number\n",
    "print(\"Hello! This is my serial number: {}\".format(zed_serial))"
   ]
  },
  {
   "cell_type": "code",
   "execution_count": 8,
   "id": "128aac04",
   "metadata": {},
   "outputs": [],
   "source": [
    "# Close the camera\n",
    "zed.close()"
   ]
  },
  {
   "cell_type": "markdown",
   "id": "40805762",
   "metadata": {},
   "source": [
    "### image capture"
   ]
  },
  {
   "cell_type": "code",
   "execution_count": 2,
   "id": "4bd875a5",
   "metadata": {},
   "outputs": [
    {
     "name": "stdout",
     "output_type": "stream",
     "text": [
      "succress\n"
     ]
    }
   ],
   "source": [
    "# Create a ZED camera object\n",
    "zed = sl.Camera()\n",
    "\n",
    "# Set configuration parameters\n",
    "init_params = sl.InitParameters()\n",
    "init_params.camera_resolution = sl.RESOLUTION.HD1080  # Use HD1080 video mode\n",
    "init_params.camera_fps = 30  # Set fps at 30\n",
    "\n",
    "# Open the camera\n",
    "err = zed.open(init_params)\n",
    "if err != sl.ERROR_CODE.SUCCESS:\n",
    "    print(\"succress\")\n",
    "    exit(-1)\n",
    "    "
   ]
  },
  {
   "cell_type": "code",
   "execution_count": 3,
   "id": "fb812d35",
   "metadata": {},
   "outputs": [],
   "source": [
    "# Grab an image\n",
    "runtime_parameters = sl.RuntimeParameters()\n",
    "if zed.grab(runtime_parameters) == sl.ERROR_CODE.SUCCESS:\n",
    "    print(\"start!\")\n",
    "    # A new image is available if grab() returns ERROR_CODE.SUCCESS\n",
    "    # Capture 50 frames and stop\n",
    "    i = 0\n",
    "    image = sl.Mat()\n",
    "    runtime_parameters = sl.RuntimeParameters()\n",
    "    while i < 50:\n",
    "        # Grab an image, a RuntimeParameters object must be given to grab()\n",
    "        if zed.grab(runtime_parameters) == sl.ERROR_CODE.SUCCESS:\n",
    "            # A new image is available if grab() returns ERROR_CODE.SUCCESS\n",
    "            zed.retrieve_image(image, sl.VIEW.LEFT) # Get the left image\n",
    "            timestamp = zed.get_timestamp(sl.TIME_REFERENCE.IMAGE)  # Get the image timestamp\n",
    "            print(\"Image resolution: {0} x {1} || Image timestamp: {2}\\n\".format(image.get_width(), image.get_height(), timestamp.get_milliseconds()))\n",
    "            i = i + 1"
   ]
  },
  {
   "cell_type": "code",
   "execution_count": 22,
   "id": "c2ab9758",
   "metadata": {},
   "outputs": [],
   "source": [
    "zed.close()"
   ]
  },
  {
   "cell_type": "code",
   "execution_count": 8,
   "id": "679ff4bf",
   "metadata": {},
   "outputs": [
    {
     "name": "stdout",
     "output_type": "stream",
     "text": [
      "2.4.1\n"
     ]
    }
   ],
   "source": [
    "import tensorflow as tf\n",
    "print(tf.__version__)"
   ]
  },
  {
   "cell_type": "code",
   "execution_count": null,
   "id": "078442f1",
   "metadata": {},
   "outputs": [],
   "source": []
  }
 ],
 "metadata": {
  "kernelspec": {
   "display_name": "Python 3",
   "language": "python",
   "name": "python3"
  },
  "language_info": {
   "codemirror_mode": {
    "name": "ipython",
    "version": 3
   },
   "file_extension": ".py",
   "mimetype": "text/x-python",
   "name": "python",
   "nbconvert_exporter": "python",
   "pygments_lexer": "ipython3",
   "version": "3.8.8"
  }
 },
 "nbformat": 4,
 "nbformat_minor": 5
}
