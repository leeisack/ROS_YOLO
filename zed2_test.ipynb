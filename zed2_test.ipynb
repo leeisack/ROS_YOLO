{
 "cells": [
  {
   "cell_type": "code",
   "execution_count": 1,
   "id": "d487cd0f",
   "metadata": {},
   "outputs": [],
   "source": [
    "import cv2\n",
    "import numpy as np"
   ]
  },
  {
   "cell_type": "code",
   "execution_count": 2,
   "id": "10516c18",
   "metadata": {},
   "outputs": [],
   "source": [
    "import os\n",
    "WEIGHTS = \"/home/kitechai/바탕화면/yolov3-tiny.weights\"\n",
    "CONFIG = \"/home/kitechai/바탕화면/yolov3-tiny.cfg\"\n",
    "CLASSES = \"/home/kitechai/바탕화면/coco.names\""
   ]
  },
  {
   "cell_type": "code",
   "execution_count": 3,
   "id": "be60c71c",
   "metadata": {},
   "outputs": [
    {
     "name": "stdout",
     "output_type": "stream",
     "text": [
      "True\n",
      "True\n",
      "True\n"
     ]
    }
   ],
   "source": [
    "print(os.path.exists(WEIGHTS))\n",
    "print(os.path.exists(CONFIG))\n",
    "print(os.path.exists(CLASSES))"
   ]
  },
  {
   "cell_type": "code",
   "execution_count": 4,
   "id": "ad69d0dd",
   "metadata": {},
   "outputs": [],
   "source": [
    "net = cv2.dnn.readNet(WEIGHTS, CONFIG)"
   ]
  },
  {
   "cell_type": "code",
   "execution_count": 14,
   "id": "043f8d4b",
   "metadata": {},
   "outputs": [],
   "source": [
    "classes = []\n",
    "with open(CLASSES,'r') as f:\n",
    "    classes = [line.strip() for line in f.readlines()]\n",
    "# print(classes)\n",
    "layer_names = net.getLayerNames()\n",
    "output_layers = [layer_names[i[0] -1] for i in net.getUnconnectedOutLayers()]\n",
    "colors = np.random.uniform(0,255, size=(len(classes), 3))"
   ]
  },
  {
   "cell_type": "code",
   "execution_count": 6,
   "id": "076e5d73",
   "metadata": {},
   "outputs": [],
   "source": [
    "img = cv2.imread(\"/home/kitechai/바탕화면/image.jpeg\")\n",
    "img = cv2.resize(img, None, fx=0.4, fy= 0.4)\n",
    "height, width, channels = img.shape"
   ]
  },
  {
   "cell_type": "code",
   "execution_count": 12,
   "id": "696dbb6a",
   "metadata": {},
   "outputs": [
    {
     "name": "stdout",
     "output_type": "stream",
     "text": [
      "[array([[0.05441146, 0.05060383, 0.15837662, ..., 0.        , 0.        ,\n",
      "        0.        ],\n",
      "       [0.04220376, 0.04442292, 0.18729427, ..., 0.        , 0.        ,\n",
      "        0.        ],\n",
      "       [0.03508363, 0.04222039, 0.750691  , ..., 0.        , 0.        ,\n",
      "        0.        ],\n",
      "       ...,\n",
      "       [0.9457462 , 0.9574748 , 0.19946998, ..., 0.        , 0.        ,\n",
      "        0.        ],\n",
      "       [0.9588088 , 0.95894635, 0.24501929, ..., 0.        , 0.        ,\n",
      "        0.        ],\n",
      "       [0.9677033 , 0.9589335 , 0.84494996, ..., 0.        , 0.        ,\n",
      "        0.        ]], dtype=float32), array([[0.01498711, 0.03160044, 0.01823145, ..., 0.        , 0.        ,\n",
      "        0.        ],\n",
      "       [0.01775139, 0.02618599, 0.02936044, ..., 0.        , 0.        ,\n",
      "        0.        ],\n",
      "       [0.0144669 , 0.02168121, 0.1076725 , ..., 0.        , 0.        ,\n",
      "        0.        ],\n",
      "       ...,\n",
      "       [0.9801624 , 0.9807968 , 0.0230255 , ..., 0.        , 0.        ,\n",
      "        0.        ],\n",
      "       [0.980185  , 0.97248405, 0.03394249, ..., 0.        , 0.        ,\n",
      "        0.        ],\n",
      "       [0.9816707 , 0.9804922 , 0.12875159, ..., 0.        , 0.        ,\n",
      "        0.        ]], dtype=float32)]\n"
     ]
    }
   ],
   "source": [
    "blob = cv2.dnn.blobFromImage(img, 0.00392, (416,416),(0,0,0), True)\n",
    "\n",
    "# for b in blob:\n",
    "#     for n,img_blob in enumerate(b):\n",
    "#         cv2.imshow(str(n), img_blob)\n",
    "        \n",
    "net.setInput(blob)\n",
    "outs = net.forward(output_layers)\n",
    "print(outs)\n",
    "\n",
    "#Showing information on the screen\n",
    "class_ids = []\n",
    "confidences = []\n",
    "boxes = []\n",
    "\n",
    "\n",
    "for out in outs:\n",
    "    for detection in out:\n",
    "        scores = detection[5:]\n",
    "        class_id = np.argmax(scores)\n",
    "        confidence = scores[class_id]\n",
    "        if confidence> 0.5:\n",
    "            #object detected\n",
    "            center_x = int(detection[0]* width)\n",
    "            center_y = int(detection[1]*height)\n",
    "            w = int(detection[2] * width)\n",
    "            h = int(detection[3] * height)\n",
    "            cv2.circle(img, (center_x, center_y), 1,(0,255,0), 2)\n",
    "            #rectangle coordinates\n",
    "            x = int(center_x - w /2)\n",
    "            y = int(center_y - h/2)\n",
    "#             cv2.rectangle(img, (x,y), (x+w, y+h), (0,255,0) , 2)\n",
    "            boxes.append([x,y,w,h])\n",
    "        confidences.append(float(confidence))\n",
    "        class_ids.append(class_id)\n",
    "# print(len(boxes))\n",
    "# number_objects_detected = len(boxes)\n",
    "indexes = cv2.dnn.NMSBoxes(boxes, confidences, 0.5, 0.4)\n",
    "font = cv2.FONT_HERSHEY_PLAIN\n",
    "for i in range(len(boxes)):\n",
    "    if i in indexs:\n",
    "        x,y,w,h = boxes[i]\n",
    "        label = classes[class_ids[i]]\n",
    "    #     print(label)\n",
    "        color = colors[i]\n",
    "        cv2.rectangle(img, (x,y), (x+w, y+h), color, 2)\n",
    "        cv2.putText(img, label, (x,y+30), font, 3, color,3)\n",
    "    \n",
    "        \n",
    "cv2.imshow(\"Image\",img)\n",
    "cv2.waitKey(0)\n",
    "cv2.destroyAllWindows()"
   ]
  },
  {
   "cell_type": "code",
   "execution_count": 9,
   "id": "1c50b077",
   "metadata": {},
   "outputs": [],
   "source": []
  }
 ],
 "metadata": {
  "kernelspec": {
   "display_name": "Python 3",
   "language": "python",
   "name": "python3"
  },
  "language_info": {
   "codemirror_mode": {
    "name": "ipython",
    "version": 3
   },
   "file_extension": ".py",
   "mimetype": "text/x-python",
   "name": "python",
   "nbconvert_exporter": "python",
   "pygments_lexer": "ipython3",
   "version": "3.8.8"
  }
 },
 "nbformat": 4,
 "nbformat_minor": 5
}
